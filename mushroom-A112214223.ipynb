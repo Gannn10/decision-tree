{
  "nbformat": 4,
  "nbformat_minor": 0,
  "metadata": {
    "colab": {
      "provenance": []
    },
    "kernelspec": {
      "name": "python3",
      "display_name": "Python 3"
    },
    "language_info": {
      "name": "python"
    }
  },
  "cells": [
    {
      "cell_type": "code",
      "source": [
        "import pandas as pd # untuk memasukkan dataset ke dataframe\n",
        "import seaborn as sns # untuk mempercantik visualisasi\n",
        "import matplotlib.pyplot as plt # untuk menggambar grafik\n",
        "from sklearn.model_selection import train_test_split # untuk membagi training dan testing\n",
        "from sklearn.tree import DecisionTreeClassifier # kita pakai decision Tree\n",
        "import numpy as np # digunakan untuk operasi matematika\n",
        "from sklearn.pipeline import Pipeline #digunakan untuk mencegah nilai nya bocor\n",
        "from sklearn.model_selection import GridSearchCV #digunakan untuk mendapatkan parameter optimal\n",
        "# untuk melihat score\n",
        "from sklearn.metrics import accuracy_score\n",
        "from sklearn.metrics import precision_score\n",
        "from sklearn.metrics import recall_score\n",
        "from sklearn.metrics import confusion_matrix"
      ],
      "metadata": {
        "id": "4L3GX6VW_R4p"
      },
      "execution_count": 5,
      "outputs": []
    },
    {
      "cell_type": "code",
      "source": [
        "from sklearn.datasets import fetch_openml\n",
        "\n",
        "# fetch dataset\n",
        "mushroom = fetch_openml(name='mushroom', version=1)\n",
        "\n",
        "# data (as pandas dataframes)\n",
        "X = mushroom.data\n",
        "y = mushroom.target\n",
        "\n",
        "# metadata\n",
        "print(mushroom.details)\n",
        "\n",
        "# variable information\n",
        "print(mushroom.feature_names)\n",
        "\n",
        "pd.set_option(\"display.max_columns\", None)"
      ],
      "metadata": {
        "id": "jJ2iyPtP_UKa",
        "colab": {
          "base_uri": "https://localhost:8080/"
        },
        "outputId": "7377d0b7-d7a7-4aef-b357-6cf2a85f64df"
      },
      "execution_count": 7,
      "outputs": [
        {
          "output_type": "stream",
          "name": "stderr",
          "text": [
            "/usr/local/lib/python3.10/dist-packages/sklearn/datasets/_openml.py:968: FutureWarning: The default value of `parser` will change from `'liac-arff'` to `'auto'` in 1.4. You can set `parser='auto'` to silence this warning. Therefore, an `ImportError` will be raised from 1.4 if the dataset is dense and pandas is not installed. Note that the pandas parser may return different data types. See the Notes Section in fetch_openml's API doc for details.\n",
            "  warn(\n"
          ]
        },
        {
          "output_type": "stream",
          "name": "stdout",
          "text": [
            "{'id': '24', 'name': 'mushroom', 'version': '1', 'description_version': '1', 'format': 'ARFF', 'creator': 'Jeff Schlimmer', 'collection_date': '1987-04-27', 'upload_date': '2014-04-06T23:21:11', 'language': 'English', 'licence': 'Public', 'url': 'https://api.openml.org/data/v1/download/24/mushroom.arff', 'parquet_url': 'https://openml1.win.tue.nl/datasets/0000/0024/dataset_24.pq', 'file_id': '24', 'default_target_attribute': 'class', 'version_label': '1', 'citation': 'The Audubon Society Field Guide to North American Mushrooms (1981). G. H. Lincoff (Pres.), New York: Alfred A. Knopf', 'tag': ['Life Science', 'Machine Learning', 'mythbusting_1', 'OpenML100', 'study_1', 'study_123', 'study_14', 'study_144', 'study_15', 'study_190', 'study_20', 'study_34', 'study_37', 'study_41', 'study_50', 'study_70', 'trivial', 'uci'], 'visibility': 'public', 'original_data_url': 'https://archive.ics.uci.edu/ml/datasets/mushroom', 'paper_url': 'https://escholarship.org/uc/item/48r6d4z0', 'minio_url': 'https://openml1.win.tue.nl/datasets/0000/0024/dataset_24.pq', 'status': 'active', 'processing_date': '2020-11-20 19:15:45', 'md5_checksum': 'c8e898e453167e76d617eff67d198579'}\n",
            "['cap-shape', 'cap-surface', 'cap-color', 'bruises%3F', 'odor', 'gill-attachment', 'gill-spacing', 'gill-size', 'gill-color', 'stalk-shape', 'stalk-root', 'stalk-surface-above-ring', 'stalk-surface-below-ring', 'stalk-color-above-ring', 'stalk-color-below-ring', 'veil-type', 'veil-color', 'ring-number', 'ring-type', 'spore-print-color', 'population', 'habitat']\n"
          ]
        }
      ]
    },
    {
      "cell_type": "code",
      "source": [
        "dataset =pd.read_csv('/content/drive/My Drive/Colab Notebooks/0_uts/agaricus-lepiota.data', sep=',', header=None)"
      ],
      "metadata": {
        "id": "Wvz4hQ_m_VIZ"
      },
      "execution_count": null,
      "outputs": []
    },
    {
      "cell_type": "code",
      "source": [
        "print(\"Baris pertama dari X:\")\n",
        "print(X.head())\n",
        "\n",
        "print(\"Baris pertama dari y:\")\n",
        "print(y.head())"
      ],
      "metadata": {
        "colab": {
          "base_uri": "https://localhost:8080/"
        },
        "id": "eVHqi9Z2_gpI",
        "outputId": "9500b2c4-a4f9-47a4-fe30-06320ef59f48"
      },
      "execution_count": 13,
      "outputs": [
        {
          "output_type": "stream",
          "name": "stdout",
          "text": [
            "Baris pertama dari X:\n",
            "  cap-shape cap-surface cap-color bruises%3F odor gill-attachment  \\\n",
            "0         x           s         n          t    p               f   \n",
            "1         x           s         y          t    a               f   \n",
            "2         b           s         w          t    l               f   \n",
            "3         x           y         w          t    p               f   \n",
            "4         x           s         g          f    n               f   \n",
            "\n",
            "  gill-spacing gill-size gill-color stalk-shape stalk-root  \\\n",
            "0            c         n          k           e          e   \n",
            "1            c         b          k           e          c   \n",
            "2            c         b          n           e          c   \n",
            "3            c         n          n           e          e   \n",
            "4            w         b          k           t          e   \n",
            "\n",
            "  stalk-surface-above-ring stalk-surface-below-ring stalk-color-above-ring  \\\n",
            "0                        s                        s                      w   \n",
            "1                        s                        s                      w   \n",
            "2                        s                        s                      w   \n",
            "3                        s                        s                      w   \n",
            "4                        s                        s                      w   \n",
            "\n",
            "  stalk-color-below-ring veil-type veil-color ring-number ring-type  \\\n",
            "0                      w         p          w           o         p   \n",
            "1                      w         p          w           o         p   \n",
            "2                      w         p          w           o         p   \n",
            "3                      w         p          w           o         p   \n",
            "4                      w         p          w           o         e   \n",
            "\n",
            "  spore-print-color population habitat  \n",
            "0                 k          s       u  \n",
            "1                 n          n       g  \n",
            "2                 n          n       m  \n",
            "3                 k          s       u  \n",
            "4                 n          a       g  \n",
            "Baris pertama dari y:\n",
            "0    p\n",
            "1    e\n",
            "2    e\n",
            "3    p\n",
            "4    e\n",
            "Name: class, dtype: category\n",
            "Categories (2, object): ['e', 'p']\n"
          ]
        }
      ]
    },
    {
      "cell_type": "code",
      "source": [
        "print(\"Baris terakhir dari X:\")\n",
        "print(X.tail())\n",
        "\n",
        "print(\"Baris terakhir dari y:\")\n",
        "print(y.tail())"
      ],
      "metadata": {
        "colab": {
          "base_uri": "https://localhost:8080/"
        },
        "id": "9RpGIe8w_h2J",
        "outputId": "43f86451-91d9-4d4e-e36a-f503de83d07c"
      },
      "execution_count": 12,
      "outputs": [
        {
          "output_type": "stream",
          "name": "stdout",
          "text": [
            "Baris terakhir dari X:\n",
            "     cap-shape cap-surface cap-color bruises%3F odor gill-attachment  \\\n",
            "8119         k           s         n          f    n               a   \n",
            "8120         x           s         n          f    n               a   \n",
            "8121         f           s         n          f    n               a   \n",
            "8122         k           y         n          f    y               f   \n",
            "8123         x           s         n          f    n               a   \n",
            "\n",
            "     gill-spacing gill-size gill-color stalk-shape stalk-root  \\\n",
            "8119            c         b          y           e        NaN   \n",
            "8120            c         b          y           e        NaN   \n",
            "8121            c         b          n           e        NaN   \n",
            "8122            c         n          b           t        NaN   \n",
            "8123            c         b          y           e        NaN   \n",
            "\n",
            "     stalk-surface-above-ring stalk-surface-below-ring stalk-color-above-ring  \\\n",
            "8119                        s                        s                      o   \n",
            "8120                        s                        s                      o   \n",
            "8121                        s                        s                      o   \n",
            "8122                        s                        k                      w   \n",
            "8123                        s                        s                      o   \n",
            "\n",
            "     stalk-color-below-ring veil-type veil-color ring-number ring-type  \\\n",
            "8119                      o         p          o           o         p   \n",
            "8120                      o         p          n           o         p   \n",
            "8121                      o         p          o           o         p   \n",
            "8122                      w         p          w           o         e   \n",
            "8123                      o         p          o           o         p   \n",
            "\n",
            "     spore-print-color population habitat  \n",
            "8119                 b          c       l  \n",
            "8120                 b          v       l  \n",
            "8121                 b          c       l  \n",
            "8122                 w          v       l  \n",
            "8123                 o          c       l  \n",
            "Baris terakhir dari y:\n",
            "8119    e\n",
            "8120    e\n",
            "8121    e\n",
            "8122    p\n",
            "8123    e\n",
            "Name: class, dtype: category\n",
            "Categories (2, object): ['e', 'p']\n"
          ]
        }
      ]
    },
    {
      "cell_type": "markdown",
      "source": [
        "## masukkan nama kolom ke dataset (jika ada)"
      ],
      "metadata": {
        "id": "lb7ppyvRANOm"
      }
    },
    {
      "cell_type": "code",
      "source": [
        "X.columns = [\"cap-shape\", \"cap-surface\", \"cap-color\", \"bruises\", \"odor\", \"gill-attachment\", \"gill-spacing\", \"gill-size\", \"gill-color\", \"stalk-shape\", \"stalk-root\",\n",
        "             \"stalk-surface-above-ring\", \"stalk-surface-below-ring\", \"stalk-color-above-ring\", \"stalk-color-below-ring\", \"veil-type\", \"veil-color\", \"ring-number\", \"ring-type\",\n",
        "             \"spore-print-color\", \"population\", \"habitat\"]"
      ],
      "metadata": {
        "id": "B-Q-F84nALlM"
      },
      "execution_count": 14,
      "outputs": []
    },
    {
      "cell_type": "code",
      "source": [
        "X.head()"
      ],
      "metadata": {
        "colab": {
          "base_uri": "https://localhost:8080/",
          "height": 275
        },
        "id": "hwrboHYoA2At",
        "outputId": "ba77ed6f-845d-4953-df0e-587a30c72d7c"
      },
      "execution_count": 15,
      "outputs": [
        {
          "output_type": "execute_result",
          "data": {
            "text/plain": [
              "  cap-shape cap-surface cap-color bruises odor gill-attachment gill-spacing  \\\n",
              "0         x           s         n       t    p               f            c   \n",
              "1         x           s         y       t    a               f            c   \n",
              "2         b           s         w       t    l               f            c   \n",
              "3         x           y         w       t    p               f            c   \n",
              "4         x           s         g       f    n               f            w   \n",
              "\n",
              "  gill-size gill-color stalk-shape stalk-root stalk-surface-above-ring  \\\n",
              "0         n          k           e          e                        s   \n",
              "1         b          k           e          c                        s   \n",
              "2         b          n           e          c                        s   \n",
              "3         n          n           e          e                        s   \n",
              "4         b          k           t          e                        s   \n",
              "\n",
              "  stalk-surface-below-ring stalk-color-above-ring stalk-color-below-ring  \\\n",
              "0                        s                      w                      w   \n",
              "1                        s                      w                      w   \n",
              "2                        s                      w                      w   \n",
              "3                        s                      w                      w   \n",
              "4                        s                      w                      w   \n",
              "\n",
              "  veil-type veil-color ring-number ring-type spore-print-color population  \\\n",
              "0         p          w           o         p                 k          s   \n",
              "1         p          w           o         p                 n          n   \n",
              "2         p          w           o         p                 n          n   \n",
              "3         p          w           o         p                 k          s   \n",
              "4         p          w           o         e                 n          a   \n",
              "\n",
              "  habitat  \n",
              "0       u  \n",
              "1       g  \n",
              "2       m  \n",
              "3       u  \n",
              "4       g  "
            ],
            "text/html": [
              "\n",
              "  <div id=\"df-d1f98c54-57a8-4a61-8041-e0e870d02f6a\" class=\"colab-df-container\">\n",
              "    <div>\n",
              "<style scoped>\n",
              "    .dataframe tbody tr th:only-of-type {\n",
              "        vertical-align: middle;\n",
              "    }\n",
              "\n",
              "    .dataframe tbody tr th {\n",
              "        vertical-align: top;\n",
              "    }\n",
              "\n",
              "    .dataframe thead th {\n",
              "        text-align: right;\n",
              "    }\n",
              "</style>\n",
              "<table border=\"1\" class=\"dataframe\">\n",
              "  <thead>\n",
              "    <tr style=\"text-align: right;\">\n",
              "      <th></th>\n",
              "      <th>cap-shape</th>\n",
              "      <th>cap-surface</th>\n",
              "      <th>cap-color</th>\n",
              "      <th>bruises</th>\n",
              "      <th>odor</th>\n",
              "      <th>gill-attachment</th>\n",
              "      <th>gill-spacing</th>\n",
              "      <th>gill-size</th>\n",
              "      <th>gill-color</th>\n",
              "      <th>stalk-shape</th>\n",
              "      <th>stalk-root</th>\n",
              "      <th>stalk-surface-above-ring</th>\n",
              "      <th>stalk-surface-below-ring</th>\n",
              "      <th>stalk-color-above-ring</th>\n",
              "      <th>stalk-color-below-ring</th>\n",
              "      <th>veil-type</th>\n",
              "      <th>veil-color</th>\n",
              "      <th>ring-number</th>\n",
              "      <th>ring-type</th>\n",
              "      <th>spore-print-color</th>\n",
              "      <th>population</th>\n",
              "      <th>habitat</th>\n",
              "    </tr>\n",
              "  </thead>\n",
              "  <tbody>\n",
              "    <tr>\n",
              "      <th>0</th>\n",
              "      <td>x</td>\n",
              "      <td>s</td>\n",
              "      <td>n</td>\n",
              "      <td>t</td>\n",
              "      <td>p</td>\n",
              "      <td>f</td>\n",
              "      <td>c</td>\n",
              "      <td>n</td>\n",
              "      <td>k</td>\n",
              "      <td>e</td>\n",
              "      <td>e</td>\n",
              "      <td>s</td>\n",
              "      <td>s</td>\n",
              "      <td>w</td>\n",
              "      <td>w</td>\n",
              "      <td>p</td>\n",
              "      <td>w</td>\n",
              "      <td>o</td>\n",
              "      <td>p</td>\n",
              "      <td>k</td>\n",
              "      <td>s</td>\n",
              "      <td>u</td>\n",
              "    </tr>\n",
              "    <tr>\n",
              "      <th>1</th>\n",
              "      <td>x</td>\n",
              "      <td>s</td>\n",
              "      <td>y</td>\n",
              "      <td>t</td>\n",
              "      <td>a</td>\n",
              "      <td>f</td>\n",
              "      <td>c</td>\n",
              "      <td>b</td>\n",
              "      <td>k</td>\n",
              "      <td>e</td>\n",
              "      <td>c</td>\n",
              "      <td>s</td>\n",
              "      <td>s</td>\n",
              "      <td>w</td>\n",
              "      <td>w</td>\n",
              "      <td>p</td>\n",
              "      <td>w</td>\n",
              "      <td>o</td>\n",
              "      <td>p</td>\n",
              "      <td>n</td>\n",
              "      <td>n</td>\n",
              "      <td>g</td>\n",
              "    </tr>\n",
              "    <tr>\n",
              "      <th>2</th>\n",
              "      <td>b</td>\n",
              "      <td>s</td>\n",
              "      <td>w</td>\n",
              "      <td>t</td>\n",
              "      <td>l</td>\n",
              "      <td>f</td>\n",
              "      <td>c</td>\n",
              "      <td>b</td>\n",
              "      <td>n</td>\n",
              "      <td>e</td>\n",
              "      <td>c</td>\n",
              "      <td>s</td>\n",
              "      <td>s</td>\n",
              "      <td>w</td>\n",
              "      <td>w</td>\n",
              "      <td>p</td>\n",
              "      <td>w</td>\n",
              "      <td>o</td>\n",
              "      <td>p</td>\n",
              "      <td>n</td>\n",
              "      <td>n</td>\n",
              "      <td>m</td>\n",
              "    </tr>\n",
              "    <tr>\n",
              "      <th>3</th>\n",
              "      <td>x</td>\n",
              "      <td>y</td>\n",
              "      <td>w</td>\n",
              "      <td>t</td>\n",
              "      <td>p</td>\n",
              "      <td>f</td>\n",
              "      <td>c</td>\n",
              "      <td>n</td>\n",
              "      <td>n</td>\n",
              "      <td>e</td>\n",
              "      <td>e</td>\n",
              "      <td>s</td>\n",
              "      <td>s</td>\n",
              "      <td>w</td>\n",
              "      <td>w</td>\n",
              "      <td>p</td>\n",
              "      <td>w</td>\n",
              "      <td>o</td>\n",
              "      <td>p</td>\n",
              "      <td>k</td>\n",
              "      <td>s</td>\n",
              "      <td>u</td>\n",
              "    </tr>\n",
              "    <tr>\n",
              "      <th>4</th>\n",
              "      <td>x</td>\n",
              "      <td>s</td>\n",
              "      <td>g</td>\n",
              "      <td>f</td>\n",
              "      <td>n</td>\n",
              "      <td>f</td>\n",
              "      <td>w</td>\n",
              "      <td>b</td>\n",
              "      <td>k</td>\n",
              "      <td>t</td>\n",
              "      <td>e</td>\n",
              "      <td>s</td>\n",
              "      <td>s</td>\n",
              "      <td>w</td>\n",
              "      <td>w</td>\n",
              "      <td>p</td>\n",
              "      <td>w</td>\n",
              "      <td>o</td>\n",
              "      <td>e</td>\n",
              "      <td>n</td>\n",
              "      <td>a</td>\n",
              "      <td>g</td>\n",
              "    </tr>\n",
              "  </tbody>\n",
              "</table>\n",
              "</div>\n",
              "    <div class=\"colab-df-buttons\">\n",
              "\n",
              "  <div class=\"colab-df-container\">\n",
              "    <button class=\"colab-df-convert\" onclick=\"convertToInteractive('df-d1f98c54-57a8-4a61-8041-e0e870d02f6a')\"\n",
              "            title=\"Convert this dataframe to an interactive table.\"\n",
              "            style=\"display:none;\">\n",
              "\n",
              "  <svg xmlns=\"http://www.w3.org/2000/svg\" height=\"24px\" viewBox=\"0 -960 960 960\">\n",
              "    <path d=\"M120-120v-720h720v720H120Zm60-500h600v-160H180v160Zm220 220h160v-160H400v160Zm0 220h160v-160H400v160ZM180-400h160v-160H180v160Zm440 0h160v-160H620v160ZM180-180h160v-160H180v160Zm440 0h160v-160H620v160Z\"/>\n",
              "  </svg>\n",
              "    </button>\n",
              "\n",
              "  <style>\n",
              "    .colab-df-container {\n",
              "      display:flex;\n",
              "      gap: 12px;\n",
              "    }\n",
              "\n",
              "    .colab-df-convert {\n",
              "      background-color: #E8F0FE;\n",
              "      border: none;\n",
              "      border-radius: 50%;\n",
              "      cursor: pointer;\n",
              "      display: none;\n",
              "      fill: #1967D2;\n",
              "      height: 32px;\n",
              "      padding: 0 0 0 0;\n",
              "      width: 32px;\n",
              "    }\n",
              "\n",
              "    .colab-df-convert:hover {\n",
              "      background-color: #E2EBFA;\n",
              "      box-shadow: 0px 1px 2px rgba(60, 64, 67, 0.3), 0px 1px 3px 1px rgba(60, 64, 67, 0.15);\n",
              "      fill: #174EA6;\n",
              "    }\n",
              "\n",
              "    .colab-df-buttons div {\n",
              "      margin-bottom: 4px;\n",
              "    }\n",
              "\n",
              "    [theme=dark] .colab-df-convert {\n",
              "      background-color: #3B4455;\n",
              "      fill: #D2E3FC;\n",
              "    }\n",
              "\n",
              "    [theme=dark] .colab-df-convert:hover {\n",
              "      background-color: #434B5C;\n",
              "      box-shadow: 0px 1px 3px 1px rgba(0, 0, 0, 0.15);\n",
              "      filter: drop-shadow(0px 1px 2px rgba(0, 0, 0, 0.3));\n",
              "      fill: #FFFFFF;\n",
              "    }\n",
              "  </style>\n",
              "\n",
              "    <script>\n",
              "      const buttonEl =\n",
              "        document.querySelector('#df-d1f98c54-57a8-4a61-8041-e0e870d02f6a button.colab-df-convert');\n",
              "      buttonEl.style.display =\n",
              "        google.colab.kernel.accessAllowed ? 'block' : 'none';\n",
              "\n",
              "      async function convertToInteractive(key) {\n",
              "        const element = document.querySelector('#df-d1f98c54-57a8-4a61-8041-e0e870d02f6a');\n",
              "        const dataTable =\n",
              "          await google.colab.kernel.invokeFunction('convertToInteractive',\n",
              "                                                    [key], {});\n",
              "        if (!dataTable) return;\n",
              "\n",
              "        const docLinkHtml = 'Like what you see? Visit the ' +\n",
              "          '<a target=\"_blank\" href=https://colab.research.google.com/notebooks/data_table.ipynb>data table notebook</a>'\n",
              "          + ' to learn more about interactive tables.';\n",
              "        element.innerHTML = '';\n",
              "        dataTable['output_type'] = 'display_data';\n",
              "        await google.colab.output.renderOutput(dataTable, element);\n",
              "        const docLink = document.createElement('div');\n",
              "        docLink.innerHTML = docLinkHtml;\n",
              "        element.appendChild(docLink);\n",
              "      }\n",
              "    </script>\n",
              "  </div>\n",
              "\n",
              "\n",
              "<div id=\"df-6c406b6e-5a01-4c60-9d32-a0649973344a\">\n",
              "  <button class=\"colab-df-quickchart\" onclick=\"quickchart('df-6c406b6e-5a01-4c60-9d32-a0649973344a')\"\n",
              "            title=\"Suggest charts\"\n",
              "            style=\"display:none;\">\n",
              "\n",
              "<svg xmlns=\"http://www.w3.org/2000/svg\" height=\"24px\"viewBox=\"0 0 24 24\"\n",
              "     width=\"24px\">\n",
              "    <g>\n",
              "        <path d=\"M19 3H5c-1.1 0-2 .9-2 2v14c0 1.1.9 2 2 2h14c1.1 0 2-.9 2-2V5c0-1.1-.9-2-2-2zM9 17H7v-7h2v7zm4 0h-2V7h2v10zm4 0h-2v-4h2v4z\"/>\n",
              "    </g>\n",
              "</svg>\n",
              "  </button>\n",
              "\n",
              "<style>\n",
              "  .colab-df-quickchart {\n",
              "      --bg-color: #E8F0FE;\n",
              "      --fill-color: #1967D2;\n",
              "      --hover-bg-color: #E2EBFA;\n",
              "      --hover-fill-color: #174EA6;\n",
              "      --disabled-fill-color: #AAA;\n",
              "      --disabled-bg-color: #DDD;\n",
              "  }\n",
              "\n",
              "  [theme=dark] .colab-df-quickchart {\n",
              "      --bg-color: #3B4455;\n",
              "      --fill-color: #D2E3FC;\n",
              "      --hover-bg-color: #434B5C;\n",
              "      --hover-fill-color: #FFFFFF;\n",
              "      --disabled-bg-color: #3B4455;\n",
              "      --disabled-fill-color: #666;\n",
              "  }\n",
              "\n",
              "  .colab-df-quickchart {\n",
              "    background-color: var(--bg-color);\n",
              "    border: none;\n",
              "    border-radius: 50%;\n",
              "    cursor: pointer;\n",
              "    display: none;\n",
              "    fill: var(--fill-color);\n",
              "    height: 32px;\n",
              "    padding: 0;\n",
              "    width: 32px;\n",
              "  }\n",
              "\n",
              "  .colab-df-quickchart:hover {\n",
              "    background-color: var(--hover-bg-color);\n",
              "    box-shadow: 0 1px 2px rgba(60, 64, 67, 0.3), 0 1px 3px 1px rgba(60, 64, 67, 0.15);\n",
              "    fill: var(--button-hover-fill-color);\n",
              "  }\n",
              "\n",
              "  .colab-df-quickchart-complete:disabled,\n",
              "  .colab-df-quickchart-complete:disabled:hover {\n",
              "    background-color: var(--disabled-bg-color);\n",
              "    fill: var(--disabled-fill-color);\n",
              "    box-shadow: none;\n",
              "  }\n",
              "\n",
              "  .colab-df-spinner {\n",
              "    border: 2px solid var(--fill-color);\n",
              "    border-color: transparent;\n",
              "    border-bottom-color: var(--fill-color);\n",
              "    animation:\n",
              "      spin 1s steps(1) infinite;\n",
              "  }\n",
              "\n",
              "  @keyframes spin {\n",
              "    0% {\n",
              "      border-color: transparent;\n",
              "      border-bottom-color: var(--fill-color);\n",
              "      border-left-color: var(--fill-color);\n",
              "    }\n",
              "    20% {\n",
              "      border-color: transparent;\n",
              "      border-left-color: var(--fill-color);\n",
              "      border-top-color: var(--fill-color);\n",
              "    }\n",
              "    30% {\n",
              "      border-color: transparent;\n",
              "      border-left-color: var(--fill-color);\n",
              "      border-top-color: var(--fill-color);\n",
              "      border-right-color: var(--fill-color);\n",
              "    }\n",
              "    40% {\n",
              "      border-color: transparent;\n",
              "      border-right-color: var(--fill-color);\n",
              "      border-top-color: var(--fill-color);\n",
              "    }\n",
              "    60% {\n",
              "      border-color: transparent;\n",
              "      border-right-color: var(--fill-color);\n",
              "    }\n",
              "    80% {\n",
              "      border-color: transparent;\n",
              "      border-right-color: var(--fill-color);\n",
              "      border-bottom-color: var(--fill-color);\n",
              "    }\n",
              "    90% {\n",
              "      border-color: transparent;\n",
              "      border-bottom-color: var(--fill-color);\n",
              "    }\n",
              "  }\n",
              "</style>\n",
              "\n",
              "  <script>\n",
              "    async function quickchart(key) {\n",
              "      const quickchartButtonEl =\n",
              "        document.querySelector('#' + key + ' button');\n",
              "      quickchartButtonEl.disabled = true;  // To prevent multiple clicks.\n",
              "      quickchartButtonEl.classList.add('colab-df-spinner');\n",
              "      try {\n",
              "        const charts = await google.colab.kernel.invokeFunction(\n",
              "            'suggestCharts', [key], {});\n",
              "      } catch (error) {\n",
              "        console.error('Error during call to suggestCharts:', error);\n",
              "      }\n",
              "      quickchartButtonEl.classList.remove('colab-df-spinner');\n",
              "      quickchartButtonEl.classList.add('colab-df-quickchart-complete');\n",
              "    }\n",
              "    (() => {\n",
              "      let quickchartButtonEl =\n",
              "        document.querySelector('#df-6c406b6e-5a01-4c60-9d32-a0649973344a button');\n",
              "      quickchartButtonEl.style.display =\n",
              "        google.colab.kernel.accessAllowed ? 'block' : 'none';\n",
              "    })();\n",
              "  </script>\n",
              "</div>\n",
              "    </div>\n",
              "  </div>\n"
            ],
            "application/vnd.google.colaboratory.intrinsic+json": {
              "type": "dataframe",
              "variable_name": "X"
            }
          },
          "metadata": {},
          "execution_count": 15
        }
      ]
    },
    {
      "cell_type": "code",
      "source": [
        "X.info()"
      ],
      "metadata": {
        "colab": {
          "base_uri": "https://localhost:8080/"
        },
        "id": "QlSlAlFBA3E9",
        "outputId": "d9e328f0-47fe-4368-a5ca-c15a2ca383fa"
      },
      "execution_count": 16,
      "outputs": [
        {
          "output_type": "stream",
          "name": "stdout",
          "text": [
            "<class 'pandas.core.frame.DataFrame'>\n",
            "RangeIndex: 8124 entries, 0 to 8123\n",
            "Data columns (total 22 columns):\n",
            " #   Column                    Non-Null Count  Dtype   \n",
            "---  ------                    --------------  -----   \n",
            " 0   cap-shape                 8124 non-null   category\n",
            " 1   cap-surface               8124 non-null   category\n",
            " 2   cap-color                 8124 non-null   category\n",
            " 3   bruises                   8124 non-null   category\n",
            " 4   odor                      8124 non-null   category\n",
            " 5   gill-attachment           8124 non-null   category\n",
            " 6   gill-spacing              8124 non-null   category\n",
            " 7   gill-size                 8124 non-null   category\n",
            " 8   gill-color                8124 non-null   category\n",
            " 9   stalk-shape               8124 non-null   category\n",
            " 10  stalk-root                5644 non-null   category\n",
            " 11  stalk-surface-above-ring  8124 non-null   category\n",
            " 12  stalk-surface-below-ring  8124 non-null   category\n",
            " 13  stalk-color-above-ring    8124 non-null   category\n",
            " 14  stalk-color-below-ring    8124 non-null   category\n",
            " 15  veil-type                 8124 non-null   category\n",
            " 16  veil-color                8124 non-null   category\n",
            " 17  ring-number               8124 non-null   category\n",
            " 18  ring-type                 8124 non-null   category\n",
            " 19  spore-print-color         8124 non-null   category\n",
            " 20  population                8124 non-null   category\n",
            " 21  habitat                   8124 non-null   category\n",
            "dtypes: category(22)\n",
            "memory usage: 179.7 KB\n"
          ]
        }
      ]
    },
    {
      "cell_type": "markdown",
      "source": [
        "## cek data kosong"
      ],
      "metadata": {
        "id": "n0SlOL5EA8rp"
      }
    },
    {
      "cell_type": "code",
      "source": [
        "X.replace(\"?\", np.nan, inplace= True)"
      ],
      "metadata": {
        "id": "1Fb_a3WPA6Ho",
        "colab": {
          "base_uri": "https://localhost:8080/"
        },
        "outputId": "6abfab3d-5d97-463e-cb8c-972e5aa2b12a"
      },
      "execution_count": 17,
      "outputs": [
        {
          "output_type": "stream",
          "name": "stderr",
          "text": [
            "<ipython-input-17-acd7abdf2cb6>:1: SettingWithCopyWarning: \n",
            "A value is trying to be set on a copy of a slice from a DataFrame\n",
            "\n",
            "See the caveats in the documentation: https://pandas.pydata.org/pandas-docs/stable/user_guide/indexing.html#returning-a-view-versus-a-copy\n",
            "  X.replace(\"?\", np.nan, inplace= True)\n"
          ]
        }
      ]
    },
    {
      "cell_type": "code",
      "source": [
        "X.info()"
      ],
      "metadata": {
        "colab": {
          "base_uri": "https://localhost:8080/"
        },
        "id": "1o0xKycRA-ak",
        "outputId": "ebf8815b-e06b-4037-d720-bd60408ada0d"
      },
      "execution_count": 18,
      "outputs": [
        {
          "output_type": "stream",
          "name": "stdout",
          "text": [
            "<class 'pandas.core.frame.DataFrame'>\n",
            "RangeIndex: 8124 entries, 0 to 8123\n",
            "Data columns (total 22 columns):\n",
            " #   Column                    Non-Null Count  Dtype   \n",
            "---  ------                    --------------  -----   \n",
            " 0   cap-shape                 8124 non-null   category\n",
            " 1   cap-surface               8124 non-null   category\n",
            " 2   cap-color                 8124 non-null   category\n",
            " 3   bruises                   8124 non-null   category\n",
            " 4   odor                      8124 non-null   category\n",
            " 5   gill-attachment           8124 non-null   category\n",
            " 6   gill-spacing              8124 non-null   category\n",
            " 7   gill-size                 8124 non-null   category\n",
            " 8   gill-color                8124 non-null   category\n",
            " 9   stalk-shape               8124 non-null   category\n",
            " 10  stalk-root                5644 non-null   category\n",
            " 11  stalk-surface-above-ring  8124 non-null   category\n",
            " 12  stalk-surface-below-ring  8124 non-null   category\n",
            " 13  stalk-color-above-ring    8124 non-null   category\n",
            " 14  stalk-color-below-ring    8124 non-null   category\n",
            " 15  veil-type                 8124 non-null   category\n",
            " 16  veil-color                8124 non-null   category\n",
            " 17  ring-number               8124 non-null   category\n",
            " 18  ring-type                 8124 non-null   category\n",
            " 19  spore-print-color         8124 non-null   category\n",
            " 20  population                8124 non-null   category\n",
            " 21  habitat                   8124 non-null   category\n",
            "dtypes: category(22)\n",
            "memory usage: 179.7 KB\n"
          ]
        }
      ]
    },
    {
      "cell_type": "code",
      "source": [
        "X.loc[:,list(X.loc[:,X.isnull().any()].columns)].isnull().sum()/(len(X))*100"
      ],
      "metadata": {
        "colab": {
          "base_uri": "https://localhost:8080/"
        },
        "id": "yJf4PHsXA_0w",
        "outputId": "13ab85a7-b6a4-41cd-8315-89135b74f284"
      },
      "execution_count": 20,
      "outputs": [
        {
          "output_type": "execute_result",
          "data": {
            "text/plain": [
              "stalk-root    30.526834\n",
              "dtype: float64"
            ]
          },
          "metadata": {},
          "execution_count": 20
        }
      ]
    },
    {
      "cell_type": "markdown",
      "source": [
        "## cek data duplikat"
      ],
      "metadata": {
        "id": "T-V-r1_cBJKP"
      }
    },
    {
      "cell_type": "code",
      "source": [
        "X = X.drop_duplicates()"
      ],
      "metadata": {
        "id": "5uUgSZI8BHYn"
      },
      "execution_count": 21,
      "outputs": []
    },
    {
      "cell_type": "code",
      "source": [
        "X.info()"
      ],
      "metadata": {
        "colab": {
          "base_uri": "https://localhost:8080/"
        },
        "id": "hLzqc7xxBIcX",
        "outputId": "433cc919-1ee9-4ac3-d399-198b77d26599"
      },
      "execution_count": 22,
      "outputs": [
        {
          "output_type": "stream",
          "name": "stdout",
          "text": [
            "<class 'pandas.core.frame.DataFrame'>\n",
            "RangeIndex: 8124 entries, 0 to 8123\n",
            "Data columns (total 22 columns):\n",
            " #   Column                    Non-Null Count  Dtype   \n",
            "---  ------                    --------------  -----   \n",
            " 0   cap-shape                 8124 non-null   category\n",
            " 1   cap-surface               8124 non-null   category\n",
            " 2   cap-color                 8124 non-null   category\n",
            " 3   bruises                   8124 non-null   category\n",
            " 4   odor                      8124 non-null   category\n",
            " 5   gill-attachment           8124 non-null   category\n",
            " 6   gill-spacing              8124 non-null   category\n",
            " 7   gill-size                 8124 non-null   category\n",
            " 8   gill-color                8124 non-null   category\n",
            " 9   stalk-shape               8124 non-null   category\n",
            " 10  stalk-root                5644 non-null   category\n",
            " 11  stalk-surface-above-ring  8124 non-null   category\n",
            " 12  stalk-surface-below-ring  8124 non-null   category\n",
            " 13  stalk-color-above-ring    8124 non-null   category\n",
            " 14  stalk-color-below-ring    8124 non-null   category\n",
            " 15  veil-type                 8124 non-null   category\n",
            " 16  veil-color                8124 non-null   category\n",
            " 17  ring-number               8124 non-null   category\n",
            " 18  ring-type                 8124 non-null   category\n",
            " 19  spore-print-color         8124 non-null   category\n",
            " 20  population                8124 non-null   category\n",
            " 21  habitat                   8124 non-null   category\n",
            "dtypes: category(22)\n",
            "memory usage: 179.7 KB\n"
          ]
        }
      ]
    },
    {
      "cell_type": "markdown",
      "source": [
        "## cek data konstan"
      ],
      "metadata": {
        "id": "YfTU4x5pBOjg"
      }
    },
    {
      "cell_type": "code",
      "source": [
        "X = X.loc[:,X.apply(pd.Series.nunique) != 1]"
      ],
      "metadata": {
        "id": "jt4NWAVxBLkV"
      },
      "execution_count": 23,
      "outputs": []
    },
    {
      "cell_type": "code",
      "source": [
        "X.info()"
      ],
      "metadata": {
        "colab": {
          "base_uri": "https://localhost:8080/"
        },
        "id": "jNlO8780BQB2",
        "outputId": "f7c94246-80b9-43c5-a1a5-ddf57ec89ff3"
      },
      "execution_count": 24,
      "outputs": [
        {
          "output_type": "stream",
          "name": "stdout",
          "text": [
            "<class 'pandas.core.frame.DataFrame'>\n",
            "RangeIndex: 8124 entries, 0 to 8123\n",
            "Data columns (total 21 columns):\n",
            " #   Column                    Non-Null Count  Dtype   \n",
            "---  ------                    --------------  -----   \n",
            " 0   cap-shape                 8124 non-null   category\n",
            " 1   cap-surface               8124 non-null   category\n",
            " 2   cap-color                 8124 non-null   category\n",
            " 3   bruises                   8124 non-null   category\n",
            " 4   odor                      8124 non-null   category\n",
            " 5   gill-attachment           8124 non-null   category\n",
            " 6   gill-spacing              8124 non-null   category\n",
            " 7   gill-size                 8124 non-null   category\n",
            " 8   gill-color                8124 non-null   category\n",
            " 9   stalk-shape               8124 non-null   category\n",
            " 10  stalk-root                5644 non-null   category\n",
            " 11  stalk-surface-above-ring  8124 non-null   category\n",
            " 12  stalk-surface-below-ring  8124 non-null   category\n",
            " 13  stalk-color-above-ring    8124 non-null   category\n",
            " 14  stalk-color-below-ring    8124 non-null   category\n",
            " 15  veil-color                8124 non-null   category\n",
            " 16  ring-number               8124 non-null   category\n",
            " 17  ring-type                 8124 non-null   category\n",
            " 18  spore-print-color         8124 non-null   category\n",
            " 19  population                8124 non-null   category\n",
            " 20  habitat                   8124 non-null   category\n",
            "dtypes: category(21)\n",
            "memory usage: 171.7 KB\n"
          ]
        }
      ]
    },
    {
      "cell_type": "markdown",
      "source": [
        "## visualisasi"
      ],
      "metadata": {
        "id": "wyyFUbb8BgUA"
      }
    },
    {
      "cell_type": "code",
      "source": [
        "population_counts = X['population'].value_counts()\n",
        "\n",
        "# Membuat diagram batang untuk distribusi 'population'\n",
        "plt.figure(figsize=(10, 6))\n",
        "population_counts.plot(kind='bar', color='lightgreen')\n",
        "plt.title('Distribusi Populasi (Population)')\n",
        "plt.xlabel('Populasi')\n",
        "plt.ylabel('Jumlah')\n",
        "plt.xticks(rotation=45)\n",
        "plt.grid(axis='y', linestyle='--', alpha=0.7)\n",
        "plt.tight_layout()\n",
        "plt.show()"
      ],
      "metadata": {
        "colab": {
          "base_uri": "https://localhost:8080/",
          "height": 607
        },
        "id": "wz6LZlDPBRKO",
        "outputId": "52117c34-eac7-4ed7-9ebb-7ff3d9e65ff6"
      },
      "execution_count": 27,
      "outputs": [
        {
          "output_type": "display_data",
          "data": {
            "text/plain": [
              "<Figure size 1000x600 with 1 Axes>"
            ],
            "image/png": "[encoded data removed]"
          },
          "metadata": {}
        }
      ]
    },
    {
      "cell_type": "code",
      "source": [
        "# Mengambil fitur 'habitat' untuk visualisasi\n",
        "habitat_counts = X['habitat'].value_counts()\n",
        "\n",
        "# Membuat diagram batang untuk distribusi 'habitat'\n",
        "plt.figure(figsize=(10, 6))\n",
        "habitat_counts.plot(kind='bar', color='lightcoral')\n",
        "plt.title('Distribusi Habitat (Habitat)')\n",
        "plt.xlabel('Habitat')\n",
        "plt.ylabel('Jumlah')\n",
        "plt.xticks(rotation=45)\n",
        "plt.grid(axis='y', linestyle='--', alpha=0.7)\n",
        "plt.tight_layout()\n",
        "plt.show()"
      ],
      "metadata": {
        "colab": {
          "base_uri": "https://localhost:8080/",
          "height": 607
        },
        "id": "G_3UZSlVGtk8",
        "outputId": "51f8e8e2-4427-485a-e9c1-1b4fcf78ceb0"
      },
      "execution_count": 28,
      "outputs": [
        {
          "output_type": "display_data",
          "data": {
            "text/plain": [
              "<Figure size 1000x600 with 1 Axes>"
            ],
            "image/png": "[encoded data removed]"
          },
          "metadata": {}
        }
      ]
    },
    {
      "cell_type": "markdown",
      "source": [
        "## konversi nilai"
      ],
      "metadata": {
        "id": "q_oetYqTB3RB"
      }
    },
    {
      "cell_type": "code",
      "source": [
        "categorical_col = []\n",
        "for column in X.columns:\n",
        "    if X[column].dtype == object and len(X[column].unique()) <= 50:\n",
        "        categorical_col.append(column)\n",
        "        print(f\"{column} : {X[column].unique()}\")\n",
        "        print(\"====================================\")"
      ],
      "metadata": {
        "id": "FLjz6W8SBmeu"
      },
      "execution_count": 30,
      "outputs": []
    },
    {
      "cell_type": "code",
      "source": [
        "# Kolom cap-shape\n",
        "cap_shape_mapping = {'x': 1, 'b': 2, 's': 3, 'f': 4, 'k': 5, 'c': 6}\n",
        "\n",
        "# Kolom cap-surface\n",
        "cap_surface_mapping = {'s': 1, 'y': 2, 'f': 3, 'g': 4}\n",
        "\n",
        "# Kolom cap-color\n",
        "cap_color_mapping = {'n': 1, 'y': 2, 'w': 3, 'g': 4, 'e': 5, 'p': 6, 'b': 7, 'u': 8, 'c': 9, 'r': 10}\n",
        "\n",
        "# Kolom bruises\n",
        "bruises_mapping = {'t': 1, 'f': 0}\n",
        "\n",
        "# Kolom odor\n",
        "odor_mapping = {'p': 1, 'a': 2, 'l': 3, 'n': 4, 'f': 5, 'c': 6, 'y': 7, 's': 8, 'm': 9}\n",
        "\n",
        "# Kolom gill-attachment\n",
        "gill_attachment_mapping = {'f': 1, 'a': 0}\n",
        "\n",
        "# Kolom gill-spacing\n",
        "gill_spacing_mapping = {'c': 1, 'w': 0}\n",
        "\n",
        "# Kolom gill-size\n",
        "gill_size_mapping = {'n': 1, 'b': 0}\n",
        "\n",
        "# Kolom gill-color\n",
        "gill_color_mapping = {'k': 1, 'n': 2, 'g': 3, 'p': 4, 'w': 5, 'h': 6, 'u': 7, 'e': 8, 'b': 9, 'r': 10, 'y': 11, 'o': 12}\n",
        "\n",
        "# Kolom stalk-shape\n",
        "stalk_shape_mapping = {'e': 1, 't': 0}\n",
        "\n",
        "# Kolom stalk-root\n",
        "stalk_root_mapping = {'e': 1, 'c': 2, 'b': 3, 'r': 4}\n",
        "\n",
        "# Kolom stalk-surface-above-ring\n",
        "stalk_surface_above_ring_mapping = {'s': 1, 'f': 2, 'k': 3, 'y': 4}\n",
        "\n",
        "# Kolom stalk-surface-below-ring\n",
        "stalk_surface_below_ring_mapping = {'s': 1, 'f': 2, 'y': 4, 'k': 3}\n",
        "\n",
        "# Kolom stalk-color-above-ring\n",
        "stalk_color_above_ring_mapping = {'w': 1, 'g': 2, 'p': 3, 'n': 4, 'b': 5, 'e': 6, 'o': 7, 'c': 8, 'y': 9}\n",
        "\n",
        "# Kolom stalk-color-below-ring\n",
        "stalk_color_below_ring_mapping = {'w': 1, 'g': 2, 'p': 3, 'n': 4, 'b': 5, 'e': 6, 'o': 7, 'c': 8, 'y': 9}\n",
        "\n",
        "# Kolom veil-type (tidak perlu dimapping karena hanya memiliki satu nilai)\n",
        "\n",
        "# Kolom veil-color\n",
        "veil_color_mapping = {'w': 1, 'n': 2, 'o': 3, 'y': 4}\n",
        "\n",
        "# Kolom ring-number\n",
        "ring_number_mapping = {'o': 1, 't': 2, 'n': 3}\n",
        "\n",
        "# Kolom ring-type\n",
        "ring_type_mapping = {'p': 1, 'e': 2, 'l': 3, 'f': 4, 'n': 5}\n",
        "\n",
        "# Kolom spore-print-color\n",
        "spore_print_color_mapping = {'k': 1, 'n': 2, 'u': 3, 'h': 4, 'w': 5, 'r': 6, 'o': 7, 'y': 8, 'b': 9}\n",
        "\n",
        "# Kolom population\n",
        "population_mapping = {'s': 1, 'n': 2, 'a': 3, 'v': 4, 'y': 5, 'c': 6}\n",
        "\n",
        "# Kolom habitat\n",
        "habitat_mapping = {'u': 1, 'g': 2, 'm': 3, 'd': 4, 'p': 5, 'w': 6, 'l': 7}\n"
      ],
      "metadata": {
        "id": "vd1Z3DcCB4ov"
      },
      "execution_count": 34,
      "outputs": []
    },
    {
      "cell_type": "code",
      "source": [
        "X.info()"
      ],
      "metadata": {
        "colab": {
          "base_uri": "https://localhost:8080/"
        },
        "id": "jY-MA9cXG6Bn",
        "outputId": "8bfda20f-1690-4f3d-d5d9-bdf0b8daefdf"
      },
      "execution_count": 35,
      "outputs": [
        {
          "output_type": "stream",
          "name": "stdout",
          "text": [
            "<class 'pandas.core.frame.DataFrame'>\n",
            "RangeIndex: 8124 entries, 0 to 8123\n",
            "Data columns (total 21 columns):\n",
            " #   Column                    Non-Null Count  Dtype   \n",
            "---  ------                    --------------  -----   \n",
            " 0   cap-shape                 8124 non-null   category\n",
            " 1   cap-surface               8124 non-null   category\n",
            " 2   cap-color                 8124 non-null   category\n",
            " 3   bruises                   8124 non-null   category\n",
            " 4   odor                      8124 non-null   category\n",
            " 5   gill-attachment           8124 non-null   category\n",
            " 6   gill-spacing              8124 non-null   category\n",
            " 7   gill-size                 8124 non-null   category\n",
            " 8   gill-color                8124 non-null   category\n",
            " 9   stalk-shape               8124 non-null   category\n",
            " 10  stalk-root                5644 non-null   category\n",
            " 11  stalk-surface-above-ring  8124 non-null   category\n",
            " 12  stalk-surface-below-ring  8124 non-null   category\n",
            " 13  stalk-color-above-ring    8124 non-null   category\n",
            " 14  stalk-color-below-ring    8124 non-null   category\n",
            " 15  veil-color                8124 non-null   category\n",
            " 16  ring-number               8124 non-null   category\n",
            " 17  ring-type                 8124 non-null   category\n",
            " 18  spore-print-color         8124 non-null   category\n",
            " 19  population                8124 non-null   category\n",
            " 20  habitat                   8124 non-null   category\n",
            "dtypes: category(21)\n",
            "memory usage: 171.7 KB\n"
          ]
        }
      ]
    }
  ]
}